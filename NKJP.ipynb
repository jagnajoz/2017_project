{
 "cells": [
  {
   "cell_type": "code",
   "execution_count": null,
   "metadata": {
    "collapsed": true
   },
   "outputs": [],
   "source": [
    "# coding=utf-8\n",
    "\n",
    "import urllib\n",
    "import random\n",
    "\n",
    "servlet=\"http://nkjp.uni.lodz.pl/NKJPSpanSearchXML\"\n",
    "\n",
    "#Aby pobrać wyniki w formacie Microsoft Excel XML wywołujemy serwlet:\n",
    "#servlet=\"http://nkjp.uni.lodz.pl/NKJPSpanSearchExcelXML\"\n",
    "\n",
    "\n",
    "#Zapytanie w składni PELCRA NKJP\n",
    "query=\"pleść** bzdura**\"\n",
    "\n",
    "#Klucz dostępu (prosimy o kontakt w celu jego uzyskania)\n",
    "api_key=XXX\n",
    "\n",
    "#Maks. odstęp między słowami\n",
    "span=2\n",
    "#Zachowujemy szyk? true|false\n",
    "preserve_order=\"false\"\n",
    "#Od którego wyniku zaczynamy?\n",
    "offset=0\n",
    "#Po czym sortujemy? srodek|lewa|prawa|title_mono|pubDate|channel title_mono to  tytuł publikacji/książki/gazety\n",
    "sort=\"srodek\"\n",
    "#od 1 do 5000 na raz. Wartości > 5000 są przycinane.\n",
    "limit=50\n",
    "#Po czym grupujemy? (--- to brak grupowania)  title_mono|pubDate|channel|---|text_id\n",
    "#groupBy=\"title_mono\"\n",
    "groupBy=\"---\"\n",
    "#Limit grupowania (Przy ustawieniu --- ta zmienna jest pomijana)\n",
    "groupByLimit=3\n",
    "#Teksty nie wcześniejsze niż\n",
    "m_date_from=1989\n",
    "#Teksty nie późniejsze niż\n",
    "m_date_to=2010\n",
    "#Styl z taksonomii NKJP. Można podać > 1, rozdzielając przecinkami\n",
    "#http://nkjp.uni.lodz.pl/help.jsp#analiza_rejestru\n",
    "m_styles=\"---\"\n",
    "#Kanał z taksonomii NKJP. Można podać > 1, rozdzielając przecinkami\n",
    "m_channels=\"---\"\n",
    "#Tytuł książki, gazety, forum internetowego, itp.\n",
    "m_title_mono=\"\"\n",
    "#Ale z wyłączeniem:\n",
    "m_title_mono_NOT=\"\"\n",
    "#Tytuł tekstu, wątku, itp.\n",
    "m_text_title=\"\"\n",
    "#Słowa kluczowe w pasującym akapicie\n",
    "m_paragraphKWs_MUST=\"\"\n",
    "m_paragraphKWs_MUST_NOT=\"\"\n",
    "m_nkjpSubcorpus=\"balanced\"\n",
    "\n",
    "\n",
    "#A to musi już tak na razie być...\n",
    "dummystring=\"ąĄćĆęĘłŁńŃóÓśŚźŹżŻ\"\n",
    "sid=random.random()\n",
    "\n",
    "params = urllib.urlencode({'query': query, 'api_key':api_key,'offset': offset, 'span': span,'sort': sort, 'second_sort':'srodek', 'limit': limit,'groupBy':groupBy,'groupByLimit':groupByLimit,'preserve_order':preserve_order,'dummystring':dummystring,'sid':sid,'m_date_from':m_date_from,'m_date_to':m_date_to,'m_styles':m_styles,'m_channels':m_channels,'m_title_mono':m_title_mono,'m_title_mono_NOT':m_title_mono_NOT,'m_paragraphKWs_MUST':m_paragraphKWs_MUST,'m_paragraphKWs_MUST_NOT':m_paragraphKWs_MUST_NOT,\"m_nkjpSubcorpus\":m_nkjpSubcorpus})\n",
    "f = urllib.urlopen(servlet, params)\n",
    "\n",
    "\n",
    "print f.read()"
   ]
  }
 ],
 "metadata": {
  "kernelspec": {
   "display_name": "Python 3",
   "language": "python",
   "name": "python3"
  },
  "language_info": {
   "codemirror_mode": {
    "name": "ipython",
    "version": 3
   },
   "file_extension": ".py",
   "mimetype": "text/x-python",
   "name": "python",
   "nbconvert_exporter": "python",
   "pygments_lexer": "ipython3",
   "version": "3.6.3"
  }
 },
 "nbformat": 4,
 "nbformat_minor": 2
}
